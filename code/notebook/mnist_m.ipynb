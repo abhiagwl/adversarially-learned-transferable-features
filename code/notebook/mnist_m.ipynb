{
 "cells": [
  {
   "cell_type": "code",
   "execution_count": 40,
   "metadata": {
    "collapsed": true
   },
   "outputs": [],
   "source": [
    "import pickle as pkl\n",
    "import numpy as np\n",
    "import tensorflow as tf\n",
    "import torch\n",
    "import os\n",
    "from PIL import Image\n",
    "import torchvision\n",
    "import matplotlib.pyplot as plt\n",
    "from tensorflow.examples.tutorials.mnist import input_data\n",
    "import torchvision.transforms as transforms\n",
    "import torch.nn as nn\n",
    "from torch.backends import cudnn\n",
    "import torch.optim as optim\n",
    "from torch.autograd import Variable\n",
    "import torch.nn.functional as F"
   ]
  },
  {
   "cell_type": "code",
   "execution_count": 41,
   "metadata": {
    "collapsed": true
   },
   "outputs": [],
   "source": [
    "is_gpu = torch.cuda.is_available()"
   ]
  },
  {
   "cell_type": "code",
   "execution_count": 43,
   "metadata": {
    "collapsed": true
   },
   "outputs": [],
   "source": [
    "root = \"../\"\n",
    "data_dir = os.path.join(root,\"datasets/mnistm/\")"
   ]
  },
  {
   "cell_type": "code",
   "execution_count": null,
   "metadata": {
    "collapsed": true
   },
   "outputs": [],
   "source": [
    "mnist_ = input_data.read_data_sets(\"MNIST_data\")"
   ]
  },
  {
   "cell_type": "code",
   "execution_count": 6,
   "metadata": {
    "collapsed": true
   },
   "outputs": [],
   "source": [
    "# mnist = input_data.read_data_sets('MNIST_data', one_hot=True)\n",
    "mnistm = pkl.load(open(data_dir+\"mnistm_data.pkl\", 'rb'))\n",
    "mnistm_train = mnistm['train']\n",
    "mnistm_test = mnistm['test']\n",
    "mnistm_valid = mnistm['valid']"
   ]
  },
  {
   "cell_type": "code",
   "execution_count": 5,
   "metadata": {
    "collapsed": true
   },
   "outputs": [],
   "source": [
    "def print_img(m):\n",
    "    plt.imshow(m)\n",
    "    plt.show()"
   ]
  },
  {
   "cell_type": "code",
   "execution_count": 8,
   "metadata": {
    "collapsed": true
   },
   "outputs": [],
   "source": [
    "train_labels = mnist.train.labels\n",
    "train_labels = np.argmax(train_labels,1)\n",
    "test_labels = np.argmax(mnist.test.labels,1)\n",
    "np.savetxt(\"./datasets/mnistm/train/train_labels.txt\",train_labels)\n",
    "np.savetxt(\"./datasets/mnistm/test/test_labels.txt\",test_labels)"
   ]
  },
  {
   "cell_type": "code",
   "execution_count": 13,
   "metadata": {
    "collapsed": true
   },
   "outputs": [],
   "source": [
    "def save_mnistm_png(data,train = True,data_dir =\"\"):\n",
    "    if train == True:\n",
    "        for i in xrange(len(data)):\n",
    "            Image.fromarray(data[i]).save(data_dir+\"train/\"+str(i)+\".png\")\n",
    "    else:\n",
    "        for i in xrange(len(data)):\n",
    "            Image.fromarray(data[i]).save(data_dir+\"test/\"+str(i)+\".png\")"
   ]
  },
  {
   "cell_type": "code",
   "execution_count": 14,
   "metadata": {
    "collapsed": true
   },
   "outputs": [],
   "source": [
    "save_mnistm_png(mnistm_train,True,data_dir)\n",
    "save_mnistm_png(mnistm_test,False,data_dir)"
   ]
  },
  {
   "cell_type": "code",
   "execution_count": 9,
   "metadata": {
    "collapsed": true
   },
   "outputs": [],
   "source": [
    "l = np.loadtxt(\"./datasets/mnistm/train/train_labels.txt\").astype(np.long)"
   ]
  },
  {
   "cell_type": "code",
   "execution_count": 12,
   "metadata": {},
   "outputs": [
    {
     "data": {
      "text/plain": [
       "7"
      ]
     },
     "execution_count": 12,
     "metadata": {},
     "output_type": "execute_result"
    }
   ],
   "source": [
    "l[0]"
   ]
  },
  {
   "cell_type": "code",
   "execution_count": 44,
   "metadata": {
    "collapsed": true,
    "scrolled": true
   },
   "outputs": [],
   "source": [
    "class MNIST_M(torch.utils.data.Dataset):\n",
    "    def __init__(self, root, train, transform=None):\n",
    "        self.train = train\n",
    "        self.transform = transform\n",
    "        if train:\n",
    "            self.image_dir = os.path.join(root, 'train')\n",
    "            labels_file = os.path.join(root, \"train/train_labels.txt\")\n",
    "        else:\n",
    "            self.image_dir = os.path.join(root, 'test')\n",
    "            labels_file = os.path.join(root, \"test/test_labels.txt\")\n",
    "\n",
    "        self.labels = np.loadtxt(labels_file).astype(np.long)\n",
    "#         with open(labels_file, \"r\") as fp:\n",
    "#             content = fp.readlines()\n",
    "#         self.mapping = list(map(lambda x: (x[0], int(x[1])), [c.strip().split() for c in content]))\n",
    "\n",
    "    def __len__(self):\n",
    "        return len(self.labels)\n",
    "\n",
    "    def __getitem__(self, idx):\n",
    "        label = self.labels[idx]\n",
    "        image = str(idx)+\".png\"\n",
    "        image = os.path.join(self.image_dir, image )\n",
    "        image = self.transform(Image.open(image).convert('RGB'))\n",
    "        return image, label"
   ]
  },
  {
   "cell_type": "code",
   "execution_count": 47,
   "metadata": {
    "collapsed": true
   },
   "outputs": [],
   "source": [
    "class ConcatDataset(torch.utils.data.Dataset):\n",
    "    def __init__(self, *datasets):\n",
    "        self.datasets = datasets\n",
    "\n",
    "    def __getitem__(self, i):\n",
    "        return tuple(d[i] for d in self.datasets)\n",
    "\n",
    "    def __len__(self):\n",
    "        return min(len(d) for d in self.datasets)\n",
    "\n",
    "train_loader = torch.utils.data.DataLoader(\n",
    "            ConcatDataset(source_train_set,target_train_dataset),\n",
    "            batch_size=32, shuffle=True, pin_memory=True)\n"
   ]
  },
  {
   "cell_type": "code",
   "execution_count": 45,
   "metadata": {},
   "outputs": [
    {
     "name": "stdout",
     "output_type": "stream",
     "text": [
      "Size of train dataset: 55000\n",
      "Size of test dataset: 10000\n"
     ]
    }
   ],
   "source": [
    "root_dir = \"./\"\n",
    "data_dir = os.path.join(root_dir,\"datasets/mnistm/\")\n",
    "\n",
    "target_train_batch_size = 32\n",
    "target_test_batch_size = 512\n",
    "\n",
    "composed_transform = transforms.Compose([transforms.ToTensor()])\n",
    "\n",
    "target_train_dataset = MNIST_M(root=data_dir, train=True, transform=composed_transform)\n",
    "target_test_dataset = MNIST_M(root=data_dir, train=False, transform=composed_transform)\n",
    "\n",
    "print('Size of train dataset: %d' % len(target_train_dataset))\n",
    "print('Size of test dataset: %d' % len(target_test_dataset))\n",
    "\n",
    "# target_train_loader = torch.utils.data.DataLoader(dataset=target_train_dataset, batch_size=target_train_batch_size, shuffle=True)\n",
    "# target_test_loader = torch.utils.data.DataLoader(dataset=target_test_dataset, batch_size=target_test_batch_size, shuffle=False)\n",
    "\n",
    "\n",
    "source_train_batch_size = 32\n",
    "source_test_batch_size = 512\n",
    "transform = transforms.Compose(\n",
    "    [transforms.ToTensor(),\n",
    "     transforms.Normalize((0.1307,), (0.3081,))])\n",
    "\n",
    "source_train_set = torchvision.datasets.MNIST(root='./datasets', train=True,\n",
    "                                        download=True, transform=transform)\n",
    "# source_train_loader = torch.utils.data.DataLoader(source_train_set, batch_size=source_train_batch_size,\n",
    "#                                           shuffle=True, num_workers=2)\n",
    "\n",
    "\n",
    "source_test_set = torchvision.datasets.MNIST(root='./datasets', train=False,\n",
    "                                        download=True, transform=transform)\n",
    "# source_test_loader = torch.utils.data.DataLoader(source_test_set, batch_size=source_test_batch_size,\n",
    "#                                           shuffle=False, num_workers=2)\n",
    "\n",
    "\n",
    "train_loader = torch.utils.data.DataLoader(\n",
    "            ConcatDataset(source_train_set,target_train_dataset),\n",
    "            batch_size=32, shuffle=False, pin_memory=True)\n",
    "\n",
    "\n",
    "test_loader = torch.utils.data.DataLoader(\n",
    "            ConcatDataset(source_test_set,target_test_dataset),\n",
    "            batch_size=256, shuffle=True, pin_memory=True)"
   ]
  },
  {
   "cell_type": "code",
   "execution_count": 49,
   "metadata": {
    "scrolled": true
   },
   "outputs": [
    {
     "data": {
      "image/png": "[encoded data removed]",
      "text/plain": [
       "<matplotlib.figure.Figure at 0x7f472be1f610>"
      ]
     },
     "metadata": {},
     "output_type": "display_data"
    },
    {
     "data": {
      "image/png": "[encoded data removed]",
      "text/plain": [
       "<matplotlib.figure.Figure at 0x7f472be1f590>"
      ]
     },
     "metadata": {},
     "output_type": "display_data"
    }
   ],
   "source": [
    "def imshow(img):\n",
    "    npimg = img.numpy()\n",
    "#     npimg = npimg*0.3081+0.1307\n",
    "    plt.imshow(np.transpose(npimg, (1, 2, 0)))\n",
    "    plt.show()\n",
    "\n",
    "train_dataiter = iter(train_loader)\n",
    "train_images, train_labels = train_dataiter.next()\n",
    "# print(\"Train images\", train_images)\n",
    "# print(\"Train images\", train_labels)\n",
    "imshow(torchvision.utils.make_grid(train_images[0]))\n",
    "imshow(torchvision.utils.make_grid(train_labels[0]))\n",
    "\n",
    "# test_dataiter = iter(target_test_loader)\n",
    "# test_images, test_labels = test_dataiter.next()\n",
    "# print(\"Test images\", test_labels)\n",
    "# imshow(torchvision.utils.make_grid(test_images))"
   ]
  },
  {
   "cell_type": "code",
   "execution_count": 63,
   "metadata": {
    "scrolled": true
   },
   "outputs": [
    {
     "data": {
      "text/plain": [
       "\n",
       " 9\n",
       " 3\n",
       " 7\n",
       " 9\n",
       " 3\n",
       " 1\n",
       " 3\n",
       " 7\n",
       " 8\n",
       " 0\n",
       " 3\n",
       " 0\n",
       " 0\n",
       " 7\n",
       " 7\n",
       " 1\n",
       " 3\n",
       " 6\n",
       " 6\n",
       " 9\n",
       " 4\n",
       " 7\n",
       " 7\n",
       " 4\n",
       " 8\n",
       " 2\n",
       " 3\n",
       " 8\n",
       " 1\n",
       " 7\n",
       " 0\n",
       " 6\n",
       "[torch.LongTensor of size 32]"
      ]
     },
     "execution_count": 63,
     "metadata": {},
     "output_type": "execute_result"
    }
   ],
   "source": [
    "train_labels[1]"
   ]
  },
  {
   "cell_type": "code",
   "execution_count": 50,
   "metadata": {
    "collapsed": true
   },
   "outputs": [],
   "source": [
    "class MnistClassifier(nn.Module):\n",
    "    def __init__(self, source_channels, target_channels, num_classes, ngpu=1):\n",
    "        super(MnistClassifier, self).__init__()\n",
    "        self.private_source = nn.Sequential(\n",
    "            nn.Conv2d(source_channels, 32, 5),\n",
    "            nn.ReLU(True),\n",
    "            nn.MaxPool2d(2,2)\n",
    "        )\n",
    "        self.private_target = nn.Sequential(\n",
    "            nn.Conv2d(target_channels, 32,5),\n",
    "            nn.ReLU(True),\n",
    "            nn.MaxPool2d(2,2)\n",
    "        )\n",
    "        self.shared_convs = nn.Sequential(\n",
    "            nn.Conv2d(32, 48, 5),\n",
    "            nn.ReLU(True),\n",
    "            nn.MaxPool2d(2,2),\n",
    "        )\n",
    "        self.shared_fcs = nn.Sequential(\n",
    "            nn.Linear(16*48, 100),\n",
    "            nn.ReLU(True),\n",
    "            nn.Linear(100, 100),\n",
    "            nn.ReLU(True),\n",
    "            nn.Linear(100, num_classes)\n",
    "        )\n",
    "\n",
    "\n",
    "    def forward(self, inputs, dataset=\"target\"):\n",
    "        if dataset == \"target\":\n",
    "            private_net = self.private_target\n",
    "        else:\n",
    "            private_net = self.private_source\n",
    "        output = private_net(inputs)\n",
    "        output = self.shared_convs(output)\n",
    "        output = output.view(output.size(0), -1)\n",
    "        output = self.shared_fcs(output)\n",
    "        return output"
   ]
  },
  {
   "cell_type": "code",
   "execution_count": 51,
   "metadata": {
    "collapsed": true
   },
   "outputs": [],
   "source": [
    "# is_gpu = True\n",
    "\n",
    "criterion = nn.CrossEntropyLoss()"
   ]
  },
  {
   "cell_type": "code",
   "execution_count": 24,
   "metadata": {
    "collapsed": true
   },
   "outputs": [],
   "source": [
    "def test_acc(net, test_loader, Target=True):\n",
    "    correct = 0\n",
    "    total = 0\n",
    "    net.eval()\n",
    "    for data in test_loader:\n",
    "        images, labels = data\n",
    "        if is_gpu:\n",
    "            images,labels = images.cuda(),labels.cuda()\n",
    "        if Target==True:\n",
    "            outputs = net(Variable(images))\n",
    "        else :\n",
    "            outputs = net(Variable(images),\"source\")\n",
    "        _, predicted = torch.max(outputs.data, 1)\n",
    "        total += labels.size(0)\n",
    "        correct += (predicted == labels).sum()\n",
    "\n",
    "    print('Accuracy of the network on the 10000 test images: %d %%' % (\n",
    "        (100.0 * correct) / total))\n",
    "    net.train()"
   ]
  },
  {
   "cell_type": "code",
   "execution_count": 49,
   "metadata": {
    "collapsed": true,
    "scrolled": true
   },
   "outputs": [],
   "source": [
    "def train_mnistm_only(net,train_loader,test_loader,optimizer,criterion,epochs,Target_check=True):\n",
    "    for epoch in range(epochs):  # loop over the dataset multiple times\n",
    "        net.train()\n",
    "        cudnn.benchmark = True\n",
    "        running_loss = 0.0\n",
    "        for i, data in enumerate(train_loader):\n",
    "            # get the inputs\n",
    "            inputs, labels = data\n",
    "            if is_gpu:\n",
    "                inputs, labels = inputs.cuda(), labels.cuda()\n",
    "            # wrap them in Variable\n",
    "            inputs, labels = Variable(inputs), Variable(labels)\n",
    "            # zero the parameter gradients\n",
    "            optimizer.zero_grad()\n",
    "\n",
    "            # forward + backward + optimize\n",
    "            outputs = net(inputs,\"target\")\n",
    "            loss = criterion(outputs, labels)\n",
    "            loss.backward()\n",
    "            optimizer.step()\n",
    "            \n",
    "\n",
    "            # print statistics\n",
    "            running_loss += loss.data[0]\n",
    "            if i % 20 == 19:    # print every 2000 mini-batches\n",
    "                print('[%d, %5d] loss: %.3f' %\n",
    "                      (epoch + 1, i + 1, running_loss / 20))\n",
    "                running_loss = 0.0\n",
    "#                 break\n",
    "                test_acc(net,test_loader,Target_check)\n",
    "    print('Finished Training')"
   ]
  },
  {
   "cell_type": "code",
   "execution_count": null,
   "metadata": {
    "collapsed": true,
    "scrolled": false
   },
   "outputs": [],
   "source": [
    "net = MnistClassifier(1, 3, 10)\n",
    "if is_gpu:\n",
    "    net.cuda()\n",
    "optimizer = optim.SGD(net.parameters(), lr=0.001, momentum=0.9)\n",
    "train_mnistm_only(net,target_train_loader, target_test_loader,optimizer,criterion,epochs=10)"
   ]
  },
  {
   "cell_type": "code",
   "execution_count": null,
   "metadata": {
    "collapsed": true
   },
   "outputs": [],
   "source": [
    "def train_mnist_only(net,train_loader,test_loader,optimizer,criterion,epochs, Target_check=True):\n",
    "    cudnn.benchmark = True\n",
    "    for epoch in range(epochs):  # loop over the dataset multiple times\n",
    "        running_loss = 0.0\n",
    "        \n",
    "        for i, data in enumerate(train_loader):\n",
    "#             net.train()\n",
    "            # get the inputs\n",
    "    \n",
    "            inputs, labels = data\n",
    "            if is_gpu:\n",
    "                inputs, labels = inputs.cuda(), labels.cuda()\n",
    "\n",
    "\n",
    "            # wrap them in Variable\n",
    "            inputs, labels = Variable(inputs), Variable(labels)\n",
    "\n",
    "\n",
    "            # zero the parameter gradients\n",
    "            optimizer.zero_grad()\n",
    "\n",
    "            # forward + backward + optimize\n",
    "            outputs = net(inputs,\"source\")\n",
    "            loss = criterion(outputs, labels)\n",
    "            loss.backward()\n",
    "            optimizer.step()\n",
    "\n",
    "            # print statistics\n",
    "            running_loss += loss.data[0]\n",
    "            p_p = 200\n",
    "            if i % p_p == (p_p-1):    \n",
    "                print('[%d, %5d] loss: %.3f' %\n",
    "                      (epoch + 1, i + 1, running_loss / p_p))\n",
    "                running_loss = 0.0\n",
    "#                 break\n",
    "                test_acc(net,test_loader, Target_check)\n",
    "\n",
    "    print('Finished Training')"
   ]
  },
  {
   "cell_type": "code",
   "execution_count": null,
   "metadata": {
    "collapsed": true,
    "scrolled": true
   },
   "outputs": [],
   "source": [
    "net = MnistClassifier(1, 3, 10)\n",
    "if is_gpu:\n",
    "    net.cuda()\n",
    "optimizer = optim.SGD(net.parameters(), lr=0.002, momentum=0.9)\n",
    "train_mnist_only(net,source_train_loader,source_test_loader,optimizer,criterion,epochs = 10,Target_check=False)"
   ]
  },
  {
   "cell_type": "code",
   "execution_count": 79,
   "metadata": {
    "collapsed": true
   },
   "outputs": [],
   "source": [
    "def test_acc_joint(net, test_loader, Target=True):\n",
    "    correct1 = 0\n",
    "    total1 = 0\n",
    "    correct2 = 0\n",
    "    total2 = 0\n",
    "    net.eval()\n",
    "    for i,data in enumerate(test_loader):\n",
    "        \n",
    "        data1, data2 = data\n",
    "        data1_img,data1_labels = data1\n",
    "        data2_img,data2_labels = data2\n",
    "        if is_gpu:\n",
    "             data1_img,data1_labels,data2_img,data2_labels = data1_img.cuda(),data1_labels.cuda(),data2_img.cuda(),data2_labels.cuda()\n",
    "\n",
    "        # wrap them in Variable\n",
    "#         data1_img,data1_labels,data2_img,data2_labels = Variable(data1_img), Variable(data1_labels), Variable(data2_img), Variable(data2_labels)\n",
    "        data1_img,data2_img = Variable(data1_img), Variable(data2_img)\n",
    "#             inputs, labels = Variable(inputs), Variable(labels)\n",
    "\n",
    "        \n",
    "        output1 = net(data1_img,\"source\")\n",
    "#         loss1 = criterion(output1, data1_labels)\n",
    "        output2 = net(data2_img,\"target\")\n",
    "#         loss2= criterion(output2, data2_labels)\n",
    "#         loss=loss1+loss2\n",
    "        _, predicted1 = torch.max(output1.data, 1)\n",
    "        _, predicted2 = torch.max(output2.data, 1)\n",
    "#         print (type(predicted1))\n",
    "#         print (type(data1_labels))\n",
    "        total1 += data1_labels.size(0)\n",
    "        total2 += data2_labels.size(0)\n",
    "        correct1 += (predicted1 == data1_labels).sum()\n",
    "        correct2 += (predicted2 == data2_labels).sum()\n",
    "        pp=5\n",
    "        if (i==(pp-1)):\n",
    "            break\n",
    "\n",
    "    print('Accuracy of the network on the 10000 source test images: %.2f %%' % (\n",
    "        (100.0 * correct1) / total1))\n",
    "    print('Accuracy of the network on the 10000 target test images: %.2f %%' % (\n",
    "        (100.0 * correct2) / total2))\n",
    "    net.train()"
   ]
  },
  {
   "cell_type": "code",
   "execution_count": 72,
   "metadata": {},
   "outputs": [
    {
     "name": "stdout",
     "output_type": "stream",
     "text": [
      "Accuracy of the network on the 10000 source test images: 14 %\n",
      "Accuracy of the network on the 10000 target test images: 11 %\n"
     ]
    }
   ],
   "source": [
    "test_acc_joint(net,test_loader)"
   ]
  },
  {
   "cell_type": "code",
   "execution_count": 74,
   "metadata": {
    "collapsed": true
   },
   "outputs": [],
   "source": [
    "def train_mnist_joint(net,train_loader,test_loader,optimizer,criterion,epochs, Target_check=True):\n",
    "    cudnn.benchmark = True\n",
    "    for epoch in range(epochs):  # loop over the dataset multiple times\n",
    "        running_loss = 0.0\n",
    "        \n",
    "        for i, data in enumerate(train_loader):\n",
    "            net.train()\n",
    "            # get the inputs\n",
    "    \n",
    "            data1, data2 = data\n",
    "            data1_img,data1_labels = data1\n",
    "            data2_img,data2_labels = data2\n",
    "            if is_gpu:\n",
    "                 data1_img,data1_labels,data2_img,data2_labels = data1_img.cuda(),data1_labels.cuda(),data2_img.cuda(),data2_labels.cuda()\n",
    "\n",
    "            # wrap them in Variable\n",
    "            data1_img,data1_labels,data2_img,data2_labels = Variable(data1_img), Variable(data1_labels), Variable(data2_img), Variable(data2_labels)\n",
    "#             inputs, labels = Variable(inputs), Variable(labels)\n",
    "\n",
    "\n",
    "            # zero the parameter gradients\n",
    "            optimizer.zero_grad()\n",
    "\n",
    "            # forward + backward + optimize\n",
    "            output1 = net(data1_img,\"source\")\n",
    "            loss1 = criterion(output1, data1_labels)\n",
    "            output2 = net(data2_img,\"target\")\n",
    "            loss2= criterion(output2, data2_labels)\n",
    "            loss=loss1+loss2\n",
    "            loss.backward()\n",
    "            optimizer.step()\n",
    "\n",
    "            # print statistics\n",
    "            running_loss += loss.data[0]\n",
    "            p_p = 5\n",
    "            if i % p_p == (p_p-1):    \n",
    "                print('[%d, %5d] loss: %.3f' %\n",
    "                      (epoch + 1, i + 1, running_loss / p_p))\n",
    "                running_loss = 0.0\n",
    "                break\n",
    "        test_acc_joint(net,test_loader, Target_check)\n",
    "\n",
    "    print('Finished Training')"
   ]
  },
  {
   "cell_type": "code",
   "execution_count": 78,
   "metadata": {
    "scrolled": true
   },
   "outputs": [
    {
     "name": "stdout",
     "output_type": "stream",
     "text": [
      "[1,     5] loss: 4.610\n",
      "Accuracy of the network on the 10000 source test images: 13.750000 %\n",
      "Accuracy of the network on the 10000 target test images: 8.750000 %\n",
      "[2,     5] loss: 4.606\n",
      "Accuracy of the network on the 10000 source test images: 17.500000 %\n",
      "Accuracy of the network on the 10000 target test images: 11.875000 %\n",
      "[3,     5] loss: 4.600\n",
      "Accuracy of the network on the 10000 source test images: 18.750000 %\n",
      "Accuracy of the network on the 10000 target test images: 15.000000 %\n",
      "[4,     5] loss: 4.593\n",
      "Accuracy of the network on the 10000 source test images: 21.250000 %\n",
      "Accuracy of the network on the 10000 target test images: 14.375000 %\n",
      "[5,     5] loss: 4.586\n",
      "Accuracy of the network on the 10000 source test images: 21.875000 %\n",
      "Accuracy of the network on the 10000 target test images: 13.750000 %\n",
      "[6,     5] loss: 4.580\n",
      "Accuracy of the network on the 10000 source test images: 21.875000 %\n",
      "Accuracy of the network on the 10000 target test images: 14.375000 %\n",
      "[7,     5] loss: 4.572\n",
      "Accuracy of the network on the 10000 source test images: 26.250000 %\n",
      "Accuracy of the network on the 10000 target test images: 13.125000 %\n",
      "[8,     5] loss: 4.565\n",
      "Accuracy of the network on the 10000 source test images: 31.875000 %\n",
      "Accuracy of the network on the 10000 target test images: 12.500000 %\n",
      "[9,     5] loss: 4.557\n",
      "Accuracy of the network on the 10000 source test images: 37.500000 %\n",
      "Accuracy of the network on the 10000 target test images: 11.875000 %\n",
      "[10,     5] loss: 4.549\n",
      "Accuracy of the network on the 10000 source test images: 41.875000 %\n",
      "Accuracy of the network on the 10000 target test images: 14.375000 %\n",
      "[11,     5] loss: 4.540\n",
      "Accuracy of the network on the 10000 source test images: 45.000000 %\n",
      "Accuracy of the network on the 10000 target test images: 16.250000 %\n",
      "[12,     5] loss: 4.531\n",
      "Accuracy of the network on the 10000 source test images: 43.125000 %\n",
      "Accuracy of the network on the 10000 target test images: 16.250000 %\n",
      "[13,     5] loss: 4.521\n",
      "Accuracy of the network on the 10000 source test images: 42.500000 %\n",
      "Accuracy of the network on the 10000 target test images: 17.500000 %\n",
      "[14,     5] loss: 4.511\n",
      "Accuracy of the network on the 10000 source test images: 42.500000 %\n",
      "Accuracy of the network on the 10000 target test images: 16.875000 %\n",
      "[15,     5] loss: 4.500\n",
      "Accuracy of the network on the 10000 source test images: 45.000000 %\n",
      "Accuracy of the network on the 10000 target test images: 18.125000 %\n",
      "[16,     5] loss: 4.488\n",
      "Accuracy of the network on the 10000 source test images: 45.000000 %\n",
      "Accuracy of the network on the 10000 target test images: 20.000000 %\n",
      "[17,     5] loss: 4.474\n",
      "Accuracy of the network on the 10000 source test images: 46.875000 %\n",
      "Accuracy of the network on the 10000 target test images: 18.750000 %\n",
      "[18,     5] loss: 4.460\n",
      "Accuracy of the network on the 10000 source test images: 46.875000 %\n",
      "Accuracy of the network on the 10000 target test images: 16.875000 %\n",
      "[19,     5] loss: 4.444\n",
      "Accuracy of the network on the 10000 source test images: 47.500000 %\n",
      "Accuracy of the network on the 10000 target test images: 16.250000 %\n",
      "[20,     5] loss: 4.426\n",
      "Accuracy of the network on the 10000 source test images: 47.500000 %\n",
      "Accuracy of the network on the 10000 target test images: 15.625000 %\n",
      "[21,     5] loss: 4.407\n",
      "Accuracy of the network on the 10000 source test images: 47.500000 %\n",
      "Accuracy of the network on the 10000 target test images: 15.625000 %\n",
      "[22,     5] loss: 4.384\n",
      "Accuracy of the network on the 10000 source test images: 48.125000 %\n",
      "Accuracy of the network on the 10000 target test images: 15.625000 %\n",
      "[23,     5] loss: 4.359\n",
      "Accuracy of the network on the 10000 source test images: 48.750000 %\n",
      "Accuracy of the network on the 10000 target test images: 15.625000 %\n",
      "[24,     5] loss: 4.331\n",
      "Accuracy of the network on the 10000 source test images: 48.125000 %\n",
      "Accuracy of the network on the 10000 target test images: 14.375000 %\n",
      "[25,     5] loss: 4.300\n",
      "Accuracy of the network on the 10000 source test images: 49.375000 %\n",
      "Accuracy of the network on the 10000 target test images: 15.000000 %\n",
      "[26,     5] loss: 4.265\n",
      "Accuracy of the network on the 10000 source test images: 51.875000 %\n",
      "Accuracy of the network on the 10000 target test images: 15.000000 %\n",
      "[27,     5] loss: 4.226\n",
      "Accuracy of the network on the 10000 source test images: 54.375000 %\n",
      "Accuracy of the network on the 10000 target test images: 18.750000 %\n",
      "[28,     5] loss: 4.181\n",
      "Accuracy of the network on the 10000 source test images: 56.250000 %\n",
      "Accuracy of the network on the 10000 target test images: 20.000000 %\n",
      "[29,     5] loss: 4.131\n",
      "Accuracy of the network on the 10000 source test images: 58.750000 %\n",
      "Accuracy of the network on the 10000 target test images: 18.750000 %\n",
      "[30,     5] loss: 4.074\n",
      "Accuracy of the network on the 10000 source test images: 61.250000 %\n",
      "Accuracy of the network on the 10000 target test images: 18.750000 %\n",
      "[31,     5] loss: 4.011\n",
      "Accuracy of the network on the 10000 source test images: 63.125000 %\n",
      "Accuracy of the network on the 10000 target test images: 19.375000 %\n",
      "[32,     5] loss: 3.939\n",
      "Accuracy of the network on the 10000 source test images: 63.125000 %\n",
      "Accuracy of the network on the 10000 target test images: 19.375000 %\n",
      "[33,     5] loss: 3.861\n",
      "Accuracy of the network on the 10000 source test images: 63.125000 %\n",
      "Accuracy of the network on the 10000 target test images: 19.375000 %\n",
      "[34,     5] loss: 3.777\n",
      "Accuracy of the network on the 10000 source test images: 65.000000 %\n",
      "Accuracy of the network on the 10000 target test images: 19.375000 %\n",
      "[35,     5] loss: 3.687\n",
      "Accuracy of the network on the 10000 source test images: 65.000000 %\n",
      "Accuracy of the network on the 10000 target test images: 19.375000 %\n",
      "[36,     5] loss: 3.594\n",
      "Accuracy of the network on the 10000 source test images: 66.875000 %\n",
      "Accuracy of the network on the 10000 target test images: 19.375000 %\n",
      "[37,     5] loss: 3.501\n",
      "Accuracy of the network on the 10000 source test images: 68.750000 %\n",
      "Accuracy of the network on the 10000 target test images: 19.375000 %\n",
      "[38,     5] loss: 3.409\n",
      "Accuracy of the network on the 10000 source test images: 71.250000 %\n",
      "Accuracy of the network on the 10000 target test images: 19.375000 %\n",
      "[39,     5] loss: 3.319\n",
      "Accuracy of the network on the 10000 source test images: 74.375000 %\n",
      "Accuracy of the network on the 10000 target test images: 19.375000 %\n",
      "[40,     5] loss: 3.235\n",
      "Accuracy of the network on the 10000 source test images: 76.875000 %\n",
      "Accuracy of the network on the 10000 target test images: 22.500000 %\n",
      "[41,     5] loss: 3.157\n",
      "Accuracy of the network on the 10000 source test images: 79.375000 %\n",
      "Accuracy of the network on the 10000 target test images: 23.750000 %\n",
      "[42,     5] loss: 3.085\n",
      "Accuracy of the network on the 10000 source test images: 80.625000 %\n",
      "Accuracy of the network on the 10000 target test images: 23.125000 %\n",
      "[43,     5] loss: 3.021\n",
      "Accuracy of the network on the 10000 source test images: 81.875000 %\n",
      "Accuracy of the network on the 10000 target test images: 22.500000 %\n",
      "[44,     5] loss: 2.963\n",
      "Accuracy of the network on the 10000 source test images: 83.125000 %\n",
      "Accuracy of the network on the 10000 target test images: 23.750000 %\n",
      "[45,     5] loss: 2.912\n",
      "Accuracy of the network on the 10000 source test images: 84.375000 %\n",
      "Accuracy of the network on the 10000 target test images: 25.000000 %\n",
      "[46,     5] loss: 2.865\n",
      "Accuracy of the network on the 10000 source test images: 85.625000 %\n",
      "Accuracy of the network on the 10000 target test images: 26.875000 %\n",
      "[47,     5] loss: 2.823\n",
      "Accuracy of the network on the 10000 source test images: 86.250000 %\n",
      "Accuracy of the network on the 10000 target test images: 28.750000 %\n",
      "[48,     5] loss: 2.784\n",
      "Accuracy of the network on the 10000 source test images: 86.875000 %\n",
      "Accuracy of the network on the 10000 target test images: 28.125000 %\n",
      "[49,     5] loss: 2.748\n",
      "Accuracy of the network on the 10000 source test images: 87.500000 %\n",
      "Accuracy of the network on the 10000 target test images: 28.750000 %\n",
      "[50,     5] loss: 2.715\n",
      "Accuracy of the network on the 10000 source test images: 88.750000 %\n",
      "Accuracy of the network on the 10000 target test images: 28.750000 %\n",
      "Finished Training\n"
     ]
    }
   ],
   "source": [
    "# is_gpu = torch.\n",
    "net = MnistClassifier(1, 3, 10)\n",
    "if is_gpu:\n",
    "    net.cuda()\n",
    "optimizer = optim.SGD(net.parameters(), lr=0.001, momentum=0.9)\n",
    "train_mnist_joint(net,train_loader,train_loader,optimizer,criterion,epochs = 50,Target_check=False)"
   ]
  }
 ],
 "metadata": {
  "kernelspec": {
   "display_name": "Python 2",
   "language": "python",
   "name": "python2"
  },
  "language_info": {
   "codemirror_mode": {
    "name": "ipython",
    "version": 2
   },
   "file_extension": ".py",
   "mimetype": "text/x-python",
   "name": "python",
   "nbconvert_exporter": "python",
   "pygments_lexer": "ipython2",
   "version": "2.7.13"
  }
 },
 "nbformat": 4,
 "nbformat_minor": 2
}
